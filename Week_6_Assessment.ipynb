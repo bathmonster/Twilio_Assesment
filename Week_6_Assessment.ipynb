{
  "nbformat": 4,
  "nbformat_minor": 0,
  "metadata": {
    "colab": {
      "provenance": [],
      "authorship_tag": "ABX9TyOKX/v4COOLWI7lFWJ5AlIW",
      "include_colab_link": true
    },
    "kernelspec": {
      "name": "python3",
      "display_name": "Python 3"
    },
    "language_info": {
      "name": "python"
    }
  },
  "cells": [
    {
      "cell_type": "markdown",
      "metadata": {
        "id": "view-in-github",
        "colab_type": "text"
      },
      "source": [
        "<a href=\"https://colab.research.google.com/github/bathmonster/Twilio_Assesment/blob/master/Week_6_Assessment.ipynb\" target=\"_parent\"><img src=\"https://colab.research.google.com/assets/colab-badge.svg\" alt=\"Open In Colab\"/></a>"
      ]
    },
    {
      "cell_type": "markdown",
      "source": [
        "The data set I havev choosen for this assessment is WiFi tracking and analytics. I have a Fortinet network with an enterprise firewall and Wifi. I am curiuos to what my home network can see.\n",
        "\n",
        "I logged into my FortiAnyayler to obtain the logfiles releated to wifi traffic\n",
        "\n",
        "the format is absoulty terrible and i had to do some manipulation of the csv file before I was comfortable using it as a dataframe"
      ],
      "metadata": {
        "id": "1oeXEuUH_ipy"
      }
    },
    {
      "cell_type": "code",
      "source": [
        "import csv\n",
        "\n",
        "def remove_all_quotes_and_substrings(row):\n",
        "    new_row = []\n",
        "    for item in row:\n",
        "        equal_index = item.find('=')\n",
        "        if equal_index != -1:\n",
        "            item = item[equal_index + 1:]\n",
        "        item = item.replace('=', '').replace('\"', '')\n",
        "        new_row.append(item)\n",
        "    return new_row\n",
        "\n",
        "def process_csv(input_file, output_file):\n",
        "    with open(input_file, newline='') as csvfile:\n",
        "        reader = csv.reader(csvfile)\n",
        "        rows = [remove_all_quotes_and_substrings(row) for row in reader]\n",
        "\n",
        "    with open(output_file, 'w', newline='') as csvfile:\n",
        "        writer = csv.writer(csvfile)\n",
        "        writer.writerows(rows)\n",
        "\n",
        "if __name__ == \"__main__\":\n",
        "    input_file = \"Forti_WiFi.csv\"\n",
        "    output_file = \"Forti_WiFi_processed.csv\"\n",
        "\n",
        "    with open(input_file, 'r') as file:\n",
        "        first_line = file.readline()\n",
        "        has_header = csv.Sniffer().has_header(first_line)\n",
        "\n",
        "    if has_header:\n",
        "        # Skip the header when processing\n",
        "        with open(input_file, newline='') as csvfile:\n",
        "            reader = csv.reader(csvfile)\n",
        "            header = next(reader)\n",
        "            rows = [header] + [remove_all_quotes_and_substrings(row) for row in reader]\n",
        "\n",
        "        with open(output_file, 'w', newline='') as csvfile:\n",
        "            writer = csv.writer(csvfile)\n",
        "            writer.writerows(rows)\n",
        "    else:\n",
        "        process_csv(input_file, output_file)\n",
        "\n",
        "    print(f\"Processing completed. The result is saved in {output_file}.\")\n"
      ],
      "metadata": {
        "colab": {
          "base_uri": "https://localhost:8080/"
        },
        "id": "YTuLTIW1Mvbh",
        "outputId": "5f157ed7-cffb-426f-e775-7d9e55275a34"
      },
      "execution_count": 226,
      "outputs": [
        {
          "output_type": "stream",
          "name": "stdout",
          "text": [
            "Processing completed. The result is saved in Forti_WiFi_processed.csv.\n"
          ]
        }
      ]
    },
    {
      "cell_type": "code",
      "execution_count": null,
      "metadata": {
        "id": "FLpE5MQACkNS"
      },
      "outputs": [],
      "source": [
        "import pandas as pd\n",
        "\n",
        "# Load the Forti_WiFi dataset from the processed CSV file\n",
        "# The dataset should be in the same directory as this script\n",
        "Forti_WiFi_Dataset = pd.read_csv('./Forti_WiFi_processed.csv', delimiter=',', low_memory=False)\n",
        "\n",
        "# Print the total number of WiFi log files in the dataset\n",
        "print(\"Total WiFi Log files: \" + str(len(Forti_WiFi_Dataset)))\n",
        "\n",
        "# Display a sample of 10 random log files from the modified DataFrame\n",
        "Forti_WiFi_Dataset.sample(10)\n"
      ]
    },
    {
      "cell_type": "code",
      "source": [
        "import pandas as pd\n",
        "\n",
        "# Load the Wigle WiFi dataset from the CSV file\n",
        "# Ensure that the 'WigleWifi.csv' file is in the same directory as this script\n",
        "Wigle_WiFi_Dataset = pd.read_csv('./WigleWifi.csv', delimiter=',', low_memory=False)\n",
        "\n",
        "# Print the total number of WiFi log files in the dataset\n",
        "print(\"Total WiFi Log files: \" + str(len(Wigle_WiFi_Dataset)))\n",
        "\n",
        "\n",
        "# Display a sample of 10 random log files from the modified DataFrame\n",
        "Wigle_WiFi_Dataset.sample(10)\n"
      ],
      "metadata": {
        "id": "VXNm2532os3E"
      },
      "execution_count": null,
      "outputs": []
    },
    {
      "cell_type": "code",
      "source": [
        "import pandas as pd\n",
        "\n",
        "# Assuming you have Forti_WiFi_Dataframe and Wigle_WiFi_Dataset defined\n",
        "\n",
        "# Merge the dataframes based on matching SSIDs\n",
        "radiosignal_df = pd.merge(Wigle_WiFi_Dataset, Forti_WiFi_Dataset, on='ssid', how='left')\n",
        "\n",
        "# Drop duplicates based on the 'mac' column\n",
        "radiosignal_df = radiosignal_df.drop_duplicates(subset=['mac'])\n",
        "\n",
        "\n",
        "# Columns to remove\n",
        "columns_to_remove = [\n",
        "    'FirstSeen', 'AltitudeMeters', 'AccuracyMeters',\n",
        "    'itime', 'vd', 'age', 'age', 'ap', 'apscan', 'apstatus',\n",
        "    'aptype', 'authserver', 'bid', 'detectionmethod', 'onwire',\n",
        "    'radioid', 'radioidclosest', 'radioiddetected', 'rate',\n",
        "    'snclosest', 'snr', 'srcip', 'stamac', 'vap'\n",
        "]\n",
        "radiosignal_df = radiosignal_df.drop(columns=columns_to_remove)\n",
        "\n",
        "# Optional: Save the final cleaned dataframe to a new file\n",
        "radiosignal_df.to_csv('final_cleaned_file.csv', index=False)\n",
        "\n",
        "\n",
        "\n"
      ],
      "metadata": {
        "id": "udJx32YodO_Z"
      },
      "execution_count": 208,
      "outputs": []
    },
    {
      "cell_type": "markdown",
      "source": [
        "What events that my Forti has seen"
      ],
      "metadata": {
        "id": "pkFxn9XBJPMj"
      }
    },
    {
      "cell_type": "code",
      "source": [
        "import pandas as pd\n",
        "import matplotlib.pyplot as plt\n",
        "\n",
        "# Count the occurrences of each action in the 'action' column of the DataFrame\n",
        "action_counts = Forti_WiFi['action'].value_counts()\n",
        "\n",
        "# Sort the actions in descending order of combined mission counts\n",
        "sorted_actions = action_counts.sort_values(ascending=False)\n",
        "\n",
        "# Create the horizontal bar plot\n",
        "plt.figure(figsize=(10, 6))  # Adjust the figure size if needed\n",
        "plt.barh(sorted_actions.index, sorted_actions.values)\n",
        "\n",
        "# Add labels and title\n",
        "plt.xlabel('Total Number of Actions')\n",
        "plt.ylabel('Action')\n",
        "plt.title('Total Number of Actions for Each SSID')\n",
        "\n",
        "# Show the plot\n",
        "plt.show()\n"
      ],
      "metadata": {
        "id": "116KSGbQONNw"
      },
      "execution_count": null,
      "outputs": []
    },
    {
      "cell_type": "code",
      "source": [
        "import pandas as pd\n",
        "import matplotlib.pyplot as plt\n",
        "\n",
        "# Assuming wigle_dataset and Forti_WiFi are your DataFrames\n",
        "\n",
        "# Calculate occurrences of each SSID in wigle_dataset and Forti_WiFi\n",
        "wigle_ssid_counts = wigle_dataset['ssid'].value_counts()\n",
        "Forti_WiFi_ssid_counts = Forti_WiFi['ssid'].value_counts()\n",
        "\n",
        "# Find common SSIDs\n",
        "common_ssids = list(set(wigle_ssid_counts.index) & set(Forti_WiFi_ssid_counts.index))\n",
        "\n",
        "# Filter occurrence counts for common SSIDs\n",
        "wigle_common_ssid_counts = wigle_ssid_counts[common_ssids]\n",
        "Forti_WiFi_common_ssid_counts = Forti_WiFi_ssid_counts[common_ssids]\n",
        "\n",
        "# Merge the filtered occurrence counts into a single DataFrame\n",
        "merged_common_counts = pd.concat([wigle_common_ssid_counts, Forti_WiFi_common_ssid_counts], axis=1, keys=['Wigle_Dataset', 'Forti_WiFi_Dataset'])\n",
        "merged_common_counts = merged_common_counts.fillna(0)  # Fill NaN values with 0\n",
        "\n",
        "# Create a bar plot\n",
        "plt.figure(figsize=(12, 6))\n",
        "merged_common_counts.plot(kind='bar')\n",
        "plt.title('Occurrences of Common SSIDs in wigle_dataset and Forti_WiFi')\n",
        "plt.xlabel('SSID')\n",
        "plt.ylabel('Number of Occurrences')\n",
        "plt.xticks(rotation=45, ha='right')\n",
        "plt.tight_layout()\n",
        "\n",
        "# Display the plot\n",
        "plt.show()\n"
      ],
      "metadata": {
        "id": "Nr0it9t6v-WF"
      },
      "execution_count": null,
      "outputs": []
    },
    {
      "cell_type": "markdown",
      "source": [
        "the occurances of AP's found in the wigle dataset that the Forti dataset found"
      ],
      "metadata": {
        "id": "2RM61452LVLi"
      }
    },
    {
      "cell_type": "code",
      "source": [
        "import pandas as pd\n",
        "import matplotlib.pyplot as plt\n",
        "\n",
        "# Assuming wigle_dataset and Forti_WiFi are your DataFrames\n",
        "\n",
        "# Calculate occurrences of each SSID in wigle_dataset and Forti_WiFi\n",
        "wigle_ssid_counts = wigle_dataset['ssid'].value_counts()\n",
        "Forti_WiFi_ssid_counts = Forti_WiFi['ssid'].value_counts()\n",
        "\n",
        "# Find common SSIDs\n",
        "common_ssids = list(set(wigle_ssid_counts.index) & set(Forti_WiFi_ssid_counts.index))\n",
        "\n",
        "# Filter occurrence counts for common SSIDs in Forti_WiFi\n",
        "Forti_WiFi_common_ssid_counts = Forti_WiFi_ssid_counts[common_ssids]\n",
        "\n",
        "# Create a bar plot\n",
        "plt.figure(figsize=(12, 6))\n",
        "Forti_WiFi_common_ssid_counts.plot(kind='bar')\n",
        "plt.title('Occurrences of Common SSIDs in Forti_WiFi Dataset')\n",
        "plt.xlabel('SSID')\n",
        "plt.ylabel('Number of Occurrences')\n",
        "plt.xticks(rotation=45, ha='right')\n",
        "plt.tight_layout()\n",
        "\n",
        "# Display the plot\n",
        "plt.show()\n"
      ],
      "metadata": {
        "id": "9Xy4w18tysOy"
      },
      "execution_count": null,
      "outputs": []
    },
    {
      "cell_type": "markdown",
      "source": [
        "Number of time the wigle data set found my home ssid's"
      ],
      "metadata": {
        "id": "vAuQLBnhLzqs"
      }
    },
    {
      "cell_type": "code",
      "source": [
        "import pandas as pd\n",
        "import matplotlib.pyplot as plt\n",
        "\n",
        "# Assuming wigle_dataset and Forti_WiFi are your DataFrames\n",
        "\n",
        "# Calculate occurrences of each SSID in wigle_dataset and Forti_WiFi\n",
        "wigle_ssid_counts = wigle_dataset['ssid'].value_counts()\n",
        "Forti_WiFi_ssid_counts = Forti_WiFi['ssid'].value_counts()\n",
        "\n",
        "# Find common SSIDs\n",
        "common_ssids = list (set(wigle_ssid_counts.index) & set(Forti_WiFi_ssid_counts.index))\n",
        "\n",
        "# Filter occurrence counts for common SSIDs in wigle_dataset\n",
        "wigle_common_ssid_counts = wigle_ssid_counts[common_ssids]\n",
        "\n",
        "# Create a bar plot\n",
        "plt.figure(figsize=(12, 6))\n",
        "wigle_common_ssid_counts.plot(kind='bar')\n",
        "plt.title('Occurrences of Common SSIDs in wigle_dataset')\n",
        "plt.xlabel('SSID')\n",
        "plt.ylabel('Number of Occurrences')\n",
        "plt.xticks(rotation=45, ha='right')\n",
        "plt.tight_layout()\n",
        "\n",
        "# Display the plot\n",
        "plt.show()\n",
        "\n"
      ],
      "metadata": {
        "id": "FIVVr1l4zA2C"
      },
      "execution_count": null,
      "outputs": []
    },
    {
      "cell_type": "code",
      "source": [
        "import folium\n",
        "from folium.plugins import HeatMap\n",
        "from IPython.display import display\n",
        "\n",
        "def main():\n",
        "    \"\"\"\n",
        "    Create a map, add markers and a heat map layer using radiosignal_df, and display the map.\n",
        "    \"\"\"\n",
        "\n",
        "    # Assuming radiosignal_df is the DataFrame\n",
        "    # Drop rows with missing latitude or longitude values\n",
        "    data = radiosignal_df.dropna(subset=['CurrentLatitude', 'CurrentLongitude'])\n",
        "\n",
        "    # Set the map center to the specified latitude and longitude\n",
        "    map_center = [-27.80196737, 152.9346552]\n",
        "    mymap = folium.Map(location=map_center, zoom_start=16)\n",
        "\n",
        "    # Create a list to hold heat map data points\n",
        "    heat_data = []\n",
        "    found_rows = []\n",
        "    # Iterate through the dataset and add data points to the map\n",
        "    for index, row in data.iterrows():\n",
        "        lat = row['CurrentLatitude']\n",
        "        lon = row['CurrentLongitude']\n",
        "        ssid = row['ssid']\n",
        "\n",
        "        # Create a marker with icon for each SSID\n",
        "        marker = folium.Marker([lat, lon], popup=ssid, icon=folium.Icon(icon='cloud'))\n",
        "        marker.add_to(mymap)\n",
        "\n",
        "        # Add the location to the heat data\n",
        "        heat_data.append([lat, lon])\n",
        "\n",
        "        # Add relevant row data to the list\n",
        "        found_rows.append({'CurrentLatitude': lat, 'CurrentLongitude': lon, 'ssid': ssid})\n",
        "\n",
        "    # Create a HeatMap layer using the heat data\n",
        "    HeatMap(heat_data, radius=20).add_to(mymap)\n",
        "\n",
        "    # Display the map on the screen\n",
        "    display(mymap)\n",
        "\n",
        "\n",
        "if __name__ == \"__main__\":\n",
        "    main()\n"
      ],
      "metadata": {
        "id": "Mw9Xat79P7Dp"
      },
      "execution_count": null,
      "outputs": []
    },
    {
      "cell_type": "markdown",
      "source": [
        "Code to show what my fortirouter sees that matchs what the wiggle data"
      ],
      "metadata": {
        "id": "IiSbB4KrH0vd"
      }
    },
    {
      "cell_type": "code",
      "source": [
        "import pandas as pd\n",
        "import matplotlib.pyplot as plt\n",
        "\n",
        "# Assuming merged_wifi is your merged dataset\n",
        "\n",
        "# Calculate the occurrences of each SSID in the merged dataset\n",
        "ssid_counts = merged_data['ssid'].value_counts()\n",
        "\n",
        "# Create a bar plot\n",
        "plt.figure(figsize=(10, 6))\n",
        "ssid_counts.plot(kind='bar')\n",
        "plt.title('Occurrences of SSIDs in Merged WiFi Dataset')\n",
        "plt.xlabel('SSID')\n",
        "plt.ylabel('Number of Occurrences')\n",
        "plt.xticks(rotation=45, ha='right')\n",
        "plt.tight_layout()\n",
        "\n",
        "# Display the plot\n",
        "plt.show()"
      ],
      "metadata": {
        "id": "21PXm8Xyvbve"
      },
      "execution_count": null,
      "outputs": []
    },
    {
      "cell_type": "code",
      "source": [
        "\n",
        "import pandas as pd\n",
        "import matplotlib.pyplot as plt\n",
        "\n",
        "# Specify the actions to filter\n",
        "specified_actions = [\n",
        "    'client-deauthentication',\n",
        "    'client-retry',\n",
        "    'client-association-failure',\n",
        "    'client-disconnected-by-wtp',\n",
        "    'rogue-ap-off-air',\n",
        "    'rogue-ap-changed'\n",
        "]\n",
        "\n",
        "# Filter the DataFrame to include only the specified actions\n",
        "filtered_data = Forti_WiFi[Forti_WiFi['action'].isin(specified_actions)]\n",
        "\n",
        "# Count the occurrences of each action in the filtered DataFrame\n",
        "action_counts = filtered_data['action'].value_counts()\n",
        "\n",
        "# Sort the actions in descending order of counts\n",
        "sorted_actions = action_counts.sort_values(ascending=False)\n",
        "\n",
        "# Create the horizontal bar plot\n",
        "plt.figure(figsize=(10, 6))\n",
        "plt.barh(sorted_actions.index, sorted_actions.values)\n",
        "\n",
        "# Add labels and title\n",
        "plt.xlabel('Total Number of Actions')\n",
        "plt.ylabel('Action')\n",
        "plt.title('Total Number of Specified Actions')\n",
        "\n",
        "# Show the plot\n",
        "plt.show()\n"
      ],
      "metadata": {
        "id": "n3YTjkK0ZPIy"
      },
      "execution_count": null,
      "outputs": []
    },
    {
      "cell_type": "code",
      "source": [
        "import folium\n",
        "from folium.plugins import HeatMap\n",
        "from IPython.display import display\n",
        "\n",
        "def main():\n",
        "    \"\"\"\n",
        "    Create a map, add markers and a heat map layer using radiosignal_df, and display the map.\n",
        "    \"\"\"\n",
        "\n",
        "    # Assuming radiosignal_df is the DataFrame\n",
        "    # Drop rows with missing latitude or longitude values\n",
        "    data = radiosignal_df.dropna(subset=['CurrentLatitude', 'CurrentLongitude'])\n",
        "\n",
        "    # Set the map center to the specified latitude and longitude\n",
        "    map_center = [-27.80196737, 152.9346552]\n",
        "    mymap = folium.Map(location=map_center, zoom_start=16)\n",
        "\n",
        "    # Create a list to hold heat map data points\n",
        "    heat_data = []\n",
        "    found_rows = []\n",
        "    # Iterate through the dataset and add data points to the map\n",
        "    for index, row in data.iterrows():\n",
        "        lat = row['CurrentLatitude']\n",
        "        lon = row['CurrentLongitude']\n",
        "        ssid = row['ssid']\n",
        "\n",
        "        # Create a marker with icon for each SSID\n",
        "        marker = folium.Marker([lat, lon], popup=ssid, icon=folium.Icon(icon='cloud'))\n",
        "        marker.add_to(mymap)\n",
        "\n",
        "        # Add the location to the heat data\n",
        "        heat_data.append([lat, lon])\n",
        "\n",
        "        # Add relevant row data to the list\n",
        "        found_rows.append({'CurrentLatitude': lat, 'CurrentLongitude': lon, 'ssid': ssid})\n",
        "\n",
        "    # Create a HeatMap layer using the heat data\n",
        "    HeatMap(heat_data, radius=20).add_to(mymap)\n",
        "\n",
        "    # Display the map on the screen\n",
        "    display(mymap)\n",
        "\n",
        "\n",
        "if __name__ == \"__main__\":\n",
        "    main()\n"
      ],
      "metadata": {
        "id": "Qz4aKP4NWnkI"
      },
      "execution_count": null,
      "outputs": []
    }
  ]
}